{
 "cells": [
  {
   "cell_type": "markdown",
   "metadata": {},
   "source": [
    "Code computes the electric field from two point sources and plots the field and the resulting interference pattern observable on a detector screen. This models a double slit experiment where light is incident on a screen with two open holes or slits. Each slit acts like a point source for an outgoing spherical wave which is computed in the code. The aim of the lab is to modify the distribution of sources and investigate the resulting changes in the interference pattern.\n",
    "\n",
    "The electric field at position $\\mathbf{r}$ and time $t$ associated with light transmitted from a monochromatic point source at position $\\mathbf{r}_1$ has the form\n",
    "$$\n",
    "E(\\mathbf{r}, t)=\\frac{A}{\\left|\\mathbf{r}-\\mathbf{r}_1\\right|} \\cos \\left(k\\left|\\mathbf{r}-\\mathbf{r}_1\\right|-\\omega t\\right)\n",
    "$$\n",
    "where $A, k, \\omega$ are constants. The field from $N$ identical sources is the superposition\n",
    "$$\n",
    "E(\\mathbf{r}, t)=\\sum_{i=1}^N \\frac{A}{\\left|\\mathbf{r}-\\mathbf{r}_i\\right|} \\cos \\left(k\\left|\\mathbf{r}-\\mathbf{r}_i\\right|-\\omega t\\right)\n",
    "$$\n",
    "\n",
    "The intensity measured on the detector screen at distance $D$ from the sources is the time average given by\n",
    "$$\n",
    "\\overline{E^2}=\\frac{1}{T} \\int_0^T|E|^2 d t\n",
    "$$\n",
    "where $T=1 / f$ is the period time and $f$ is the frequency of the light sources. If the far-field condition $D \\gg d$ is fulfilled the intensity measured on the detector screen is\n",
    "$$\n",
    "\\overline{E^2}=\\frac{|A|^2}{r^2}\\left(\\frac{N}{2}+\\sum_{i=1}^{N-1} \\sum_{j=i+1}^N \\cos \\left(k\\left|\\mathbf{r}-\\mathbf{r}_i\\right|-k\\left|\\mathbf{r}-\\mathbf{r}_j\\right|\\right)\\right)\n",
    "$$\n",
    "\n",
    "---"
   ]
  },
  {
   "cell_type": "markdown",
   "metadata": {},
   "source": [
    "1. Interference code simulates two point sources emitting coherent waves, i.e., waves with the same amplitude and phase. \n",
    "    - Change the distance $d$ between the sources. \n",
    "    - Insert a third source between the two sources. \n",
    "    - Describe the resulting changes in the interference patterns.\n",
    "\n",
    "---"
   ]
  },
  {
   "cell_type": "markdown",
   "metadata": {},
   "source": [
    "2. Doubleslit code simulates the interference pattern on a detector screen from two point sources. \n",
    "    - Experiment with the values of the parameters in the code: wavelength $\\lambda$, distance $d$ between slits, and distance $D$ to the detector screen. \n",
    "    - Compare the distance between the interference maxima to the theoretical result $\\Delta x=\\lambda D / d$.\n",
    "---"
   ]
  },
  {
   "cell_type": "markdown",
   "metadata": {},
   "source": [
    "3. Model a more realistic single slit by placing $N$ sources with uniform separation so that the width of the slit is $w=0.05$. \n",
    "    - How does the intensity peak width depend on $w$ and $N$ ? \n",
    "    - Try $N=2,3,5,10$.\n",
    "\n",
    "---"
   ]
  },
  {
   "cell_type": "markdown",
   "metadata": {},
   "source": [
    "4. Make a more realistic model of a double slit by placing two slits of the type in Problem $3$ with $N=10$. \n",
    "    - Place the center of the slits at distance $d=0.5$. \n",
    "    - How does the intensity pattern compare to the result in Problem $2$ ? \n",
    "    - Normalize the data so the central peak has the same amplitude in both cases."
   ]
  }
 ],
 "metadata": {
  "language_info": {
   "name": "python"
  }
 },
 "nbformat": 4,
 "nbformat_minor": 2
}
