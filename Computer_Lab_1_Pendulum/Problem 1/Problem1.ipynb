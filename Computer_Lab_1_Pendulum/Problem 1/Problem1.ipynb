{
 "cells": [
  {
   "cell_type": "markdown",
   "metadata": {},
   "source": [
    "### Problem 1 - Pendulum Vulgaris"
   ]
  },
  {
   "cell_type": "markdown",
   "metadata": {},
   "source": [
    "\n",
    "- Implement a computation of the period time $T$, i.e., the time for the pendulum to make one full period of the motion. \n",
    "\n",
    "\n",
    "- There is no closed formula for $T$ in terms of elementary functions so a numerical evaluation is useful. "
   ]
  },
  {
   "cell_type": "markdown",
   "metadata": {},
   "source": [
    "$T$ can be computed as follows:\n",
    "\n",
    "- In the first half period of the motion $\\theta$ decreases with time, so $T / 2$ can be computed as the time when $\\theta$ starts to increase. \n",
    "- In this way determine $T$ for a few different values of $\\theta_0$.\n",
    "- The time step $\\Delta t$ in the provided code has to be adjusted.\n",
    "- Test a few values $\\Delta t=0.1,0.01,0.001$ etc. \n",
    "- A good choice makes the final results independent of $\\Delta t$ within the wanted numerical accuracy. \n",
    "- Assume the parameter values $m=g=L=1$.\n",
    "- Compare the simulation results with some analytical results by plotting $T$ vs $\\theta_0$.\n",
    "- In the same plot include the result for the harmonic oscillator\n",
    "\n",
    "---"
   ]
  },
  {
   "cell_type": "markdown",
   "metadata": {},
   "source": [
    "\n",
    "The period time can be computed by numerical integration of the equation\n",
    "\n",
    "$$\n",
    "T=\\sqrt{2} \\int_{-\\theta_0}^{\\theta_0} \\frac{d \\theta}{\\sqrt{\\cos (\\theta)-\\cos \\left(\\theta_0\\right)}}\n",
    "$$\n",
    "\n",
    "which follows from energy conservation: $E(t)=E\\left(t_0\\right)$.\n",
    "\n",
    "---"
   ]
  },
  {
   "cell_type": "markdown",
   "metadata": {},
   "source": [
    "$T$ can also be obtained from the series expansion\n",
    "$$\n",
    "T=\\frac{2 \\pi}{\\omega_0}\\left(1+\\frac{1}{16} \\theta_0^2+\\frac{11}{3072} \\theta_0^4+\\ldots\\right)\n",
    "$$\n",
    "where $\\omega_0=\\sqrt{g / L}$.\n",
    "\n",
    "---"
   ]
  }
 ],
 "metadata": {
  "language_info": {
   "name": "python"
  }
 },
 "nbformat": 4,
 "nbformat_minor": 2
}
