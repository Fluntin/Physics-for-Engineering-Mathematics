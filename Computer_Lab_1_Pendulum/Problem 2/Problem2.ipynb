{
 "cells": [
  {
   "cell_type": "markdown",
   "metadata": {},
   "source": [
    "### Problem 2 - Damped pendulum"
   ]
  },
  {
   "cell_type": "markdown",
   "metadata": {},
   "source": [
    "- Modify the code to simulate a damped pendulum with equation of motion \n",
    "\n",
    "$$\n",
    "\\ddot{\\theta}=-\\gamma \\dot{\\theta}-\\omega_0^2 \\sin \\theta\n",
    "$$\n",
    "\n",
    "- The modification is done by uncommenting an existing line in the provided code. \n",
    "- For $\\gamma=1$ determine and plot the amplitude at the turning points vs time.\n",
    "\n",
    "---\n",
    "\n",
    "- Determine the characteristic time $t=\\tau$ where the amplitude has reduced to half its initial value. \n",
    "- This has to be done by interpolation in the amplitude vs time plot. \n",
    "- Suggestions: It is always useful to look for a way to present a plot that makes the data form straight lines. \n",
    "- The damping part of the equation of motion suggests that the pendulum amplitude also decays as $\\exp (-\\gamma t)$\n",
    "$$\n",
    "\\ddot{\\theta}=-\\gamma \\dot{\\theta} \\Rightarrow \\dot{\\theta}(t)=C \\exp (-\\gamma t)\n",
    "$$\n",
    "- This suggests trying a logarithmic plot. \n",
    "- From this plot the half time is easily computed by linear interpolation between data points.\n",
    "\n",
    "---\n",
    "\n",
    "- Run a set of simulations for a sequence of values of the damping: $\\gamma=0.1,0.2,0.4$, $0.6,0.8,1.0, \\ldots$ \n",
    "- At which threshold value of $\\gamma$ does the motion become overdamped such that the motion never crosses the vertical $\\theta=0$ ? \n",
    "- Try to plot the absolute value of the amplitude at the first turn vs $\\gamma$ and also vs $1 / \\gamma$. \n",
    "- Can you use one of these plots to extrapolate to the $\\gamma$ that would give zero amplitude?"
   ]
  }
 ],
 "metadata": {
  "language_info": {
   "name": "python"
  }
 },
 "nbformat": 4,
 "nbformat_minor": 2
}
