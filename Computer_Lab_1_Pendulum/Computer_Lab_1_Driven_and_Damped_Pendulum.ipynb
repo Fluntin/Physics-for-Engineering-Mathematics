{
 "cells": [
  {
   "cell_type": "markdown",
   "metadata": {},
   "source": [
    "### Problem 1 - Pendulum Vulgaris"
   ]
  },
  {
   "cell_type": "markdown",
   "metadata": {},
   "source": [
    "\n",
    "- Implement a computation of the period time $T$, i.e., the time for the pendulum to make one full period of the motion. \n",
    "\n",
    "\n",
    "- There is no closed formula for $T$ in terms of elementary functions so a numerical evaluation is useful. "
   ]
  },
  {
   "cell_type": "markdown",
   "metadata": {},
   "source": [
    "$T$ can be computed as follows:\n",
    "\n",
    "- In the first half period of the motion $\\theta$ decreases with time, so $T / 2$ can be computed as the time when $\\theta$ starts to increase. \n",
    "- In this way determine $T$ for a few different values of $\\theta_0$.\n",
    "- The time step $\\Delta t$ in the provided code has to be adjusted.\n",
    "- Test a few values $\\Delta t=0.1,0.01,0.001$ etc. \n",
    "- A good choice makes the final results independent of $\\Delta t$ within the wanted numerical accuracy. \n",
    "- Assume the parameter values $m=g=L=1$.\n",
    "- Compare the simulation results with some analytical results by plotting $T$ vs $\\theta_0$.\n",
    "- In the same plot include the result for the harmonic oscillator\n",
    "\n",
    "---"
   ]
  },
  {
   "cell_type": "markdown",
   "metadata": {},
   "source": [
    "\n",
    "The period time can be computed by numerical integration of the equation\n",
    "\n",
    "$$\n",
    "T=\\sqrt{2} \\int_{-\\theta_0}^{\\theta_0} \\frac{d \\theta}{\\sqrt{\\cos (\\theta)-\\cos \\left(\\theta_0\\right)}}\n",
    "$$\n",
    "\n",
    "which follows from energy conservation: $E(t)=E\\left(t_0\\right)$.\n",
    "\n",
    "---"
   ]
  },
  {
   "cell_type": "markdown",
   "metadata": {},
   "source": [
    "$T$ can also be obtained from the series expansion\n",
    "$$\n",
    "T=\\frac{2 \\pi}{\\omega_0}\\left(1+\\frac{1}{16} \\theta_0^2+\\frac{11}{3072} \\theta_0^4+\\ldots\\right)\n",
    "$$\n",
    "where $\\omega_0=\\sqrt{g / L}$.\n",
    "\n",
    "---"
   ]
  },
  {
   "cell_type": "markdown",
   "metadata": {},
   "source": [
    "### Problem 2 - Damped pendulum"
   ]
  },
  {
   "cell_type": "markdown",
   "metadata": {},
   "source": [
    "- Modify the code to simulate a damped pendulum with equation of motion \n",
    "\n",
    "$$\n",
    "\\ddot{\\theta}=-\\gamma \\dot{\\theta}-\\omega_0^2 \\sin \\theta\n",
    "$$\n",
    "\n",
    "- The modification is done by uncommenting an existing line in the provided code. \n",
    "- For $\\gamma=1$ determine and plot the amplitude at the turning points vs time.\n",
    "\n",
    "---\n",
    "\n",
    "- Determine the characteristic time $t=\\tau$ where the amplitude has reduced to half its initial value. \n",
    "- This has to be done by interpolation in the amplitude vs time plot. \n",
    "- Suggestions: It is always useful to look for a way to present a plot that makes the data form straight lines. \n",
    "- The damping part of the equation of motion suggests that the pendulum amplitude also decays as $\\exp (-\\gamma t)$\n",
    "$$\n",
    "\\ddot{\\theta}=-\\gamma \\dot{\\theta} \\Rightarrow \\dot{\\theta}(t)=C \\exp (-\\gamma t)\n",
    "$$\n",
    "- This suggests trying a logarithmic plot. \n",
    "- From this plot the half time is easily computed by linear interpolation between data points.\n",
    "\n",
    "---\n",
    "\n",
    "- Run a set of simulations for a sequence of values of the damping: $\\gamma=0.1,0.2,0.4$, $0.6,0.8,1.0, \\ldots$ \n",
    "- At which threshold value of $\\gamma$ does the motion become overdamped such that the motion never crosses the vertical $\\theta=0$ ? \n",
    "- Try to plot the absolute value of the amplitude at the first turn vs $\\gamma$ and also vs $1 / \\gamma$. \n",
    "- Can you use one of these plots to extrapolate to the $\\gamma$ that would give zero amplitude?"
   ]
  },
  {
   "cell_type": "markdown",
   "metadata": {},
   "source": [
    "### Problem 3 - Driven damped pendulum"
   ]
  },
  {
   "cell_type": "markdown",
   "metadata": {},
   "source": [
    "- Simulate the driven damped pendulum by uncommenting an existing line. \n",
    "- The driving force is here assumed to act on the mass point of the pendulum. \n",
    "The equation of motion is:\n",
    "<br>\n",
    "$$\n",
    "\\ddot{\\theta}=-\\gamma \\dot{\\theta}-A \\sin \\omega t-\\omega_0^2 \\sin \\theta\n",
    "$$\n",
    "Use the initial conditions:\n",
    "$$\n",
    "\\theta_0=\\dot{\\theta}_0=0\n",
    "$$\n",
    "\n",
    "- Damping $\\gamma=3 / 8$ and \n",
    "- Drive frequency $\\omega=2 / 3$\n",
    "\n",
    "For small $A$ the motion consists of two stages: \n",
    "1. The transient motion when the amplitude grows \n",
    "2. The steady state motion when the phase portrait has reached a limit cycle and the amplitude settles to a constant value. \n",
    "\n",
    "---\n",
    "\n",
    "Compute and plot the steady state amplitude vs $A$ for $A=0.1,0.2,0.4,0.8$.\n",
    "\n",
    "At $A \\geq 1$ the solution changes character and can become very rich and complicated with period doubling, strange attractors and chaos. \n",
    "\n",
    "We will not go into detail here but to get a flavor..\n",
    "- Set $A=1$ and describe the resulting solution. \n",
    "- What happens to the phase portrait? \n",
    "- Is there a limit cycle? \n",
    "\n",
    "*For details see Classical Mechanics by John Taylor.*"
   ]
  }
 ],
 "metadata": {
  "language_info": {
   "name": "python"
  }
 },
 "nbformat": 4,
 "nbformat_minor": 2
}
