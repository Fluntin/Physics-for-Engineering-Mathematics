{
 "cells": [
  {
   "cell_type": "markdown",
   "metadata": {},
   "source": [
    "### Problem 3 - Driven damped pendulum"
   ]
  },
  {
   "cell_type": "markdown",
   "metadata": {},
   "source": [
    "- Simulate the driven damped pendulum by uncommenting an existing line. \n",
    "- The driving force is here assumed to act on the mass point of the pendulum. \n",
    "The equation of motion is:\n",
    "<br>\n",
    "$$\n",
    "\\ddot{\\theta}=-\\gamma \\dot{\\theta}-A \\sin \\omega t-\\omega_0^2 \\sin \\theta\n",
    "$$\n",
    "Use the initial conditions:\n",
    "$$\n",
    "\\theta_0=\\dot{\\theta}_0=0\n",
    "$$\n",
    "\n",
    "- Damping $\\gamma=3 / 8$ and \n",
    "- Drive frequency $\\omega=2 / 3$\n",
    "\n",
    "For small $A$ the motion consists of two stages: \n",
    "1. The transient motion when the amplitude grows \n",
    "2. The steady state motion when the phase portrait has reached a limit cycle and the amplitude settles to a constant value. \n",
    "\n",
    "---\n",
    "\n",
    "Compute and plot the steady state amplitude vs $A$ for $A=0.1,0.2,0.4,0.8$.\n",
    "\n",
    "At $A \\geq 1$ the solution changes character and can become very rich and complicated with period doubling, strange attractors and chaos. \n",
    "\n",
    "We will not go into detail here but to get a flavor..\n",
    "- Set $A=1$ and describe the resulting solution. \n",
    "- What happens to the phase portrait? \n",
    "- Is there a limit cycle? \n",
    "\n",
    "*For details see Classical Mechanics by John Taylor.*"
   ]
  },
  {
   "cell_type": "markdown",
   "metadata": {},
   "source": [
    "---\n",
    "$$\n",
    "\\text { I }\\left\\{\\begin{array}{l}\n",
    "\\ddot{\\theta}+\\omega^2 \\sin \\theta=0 \\\\\n",
    "\\theta(0)=\\theta_0 \\dot{\\theta}(0)=0\n",
    "\\end{array}\\right.\n",
    "$$\n",
    "\n",
    "$$\n",
    "E=\\frac{\\theta^2}{2}-\\omega^2 \\cos \\theta=constant\n",
    "$$\n",
    "\n",
    "\n",
    "$$\n",
    "\\dot{\\theta}^2=2 \\omega^2\\left(\\cos \\theta_0- cos\\bar{\\theta}\\right)=-\\omega^2 \\cos \\theta_0\n",
    "$$\n",
    "\n",
    "$$\n",
    "\\frac{d \\theta}{d t}= \\pm \\omega \\sqrt{2(\\cos \\theta_0-\\cos \\theta)}\n",
    "$$\n",
    "\n",
    "$$\n",
    "\\int_{\\theta_0}^{0} \\frac{d \\theta}{\\omega\\sqrt{2(\\cos \\theta_0-\\cos \\theta)}}=\\int_0^{T / 2} d t\n",
    "$$"
   ]
  }
 ],
 "metadata": {
  "language_info": {
   "name": "python"
  }
 },
 "nbformat": 4,
 "nbformat_minor": 2
}
