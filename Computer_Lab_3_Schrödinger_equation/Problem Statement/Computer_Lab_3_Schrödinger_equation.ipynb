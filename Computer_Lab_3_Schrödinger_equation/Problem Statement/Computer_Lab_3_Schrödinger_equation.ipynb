{
 "cells": [
  {
   "cell_type": "markdown",
   "metadata": {},
   "source": [
    "### Computer Lab 3: Schrödinger equation\n",
    "\n",
    "\n",
    "##### Introduction to the Lab Exercise\n",
    "\n",
    "In this lab, we study the simplest numerical solution to the Schrödinger equation: eigenstates of the one-dimensional time-independent Schrödinger equation for a particle confined by a potential.\n",
    "\n",
    "##### Problem Statement\n",
    "\n",
    "Given a potential $V(x)$, the task is to compute:\n",
    "- Eigenvalues $E_n$\n",
    "- Eigenstates $\\psi_n(x)$\n",
    "\n",
    "This lab explores a few simple potentials to demonstrate the method, but it is applicable to any potential that produces bound states.\n",
    "\n",
    "##### Computational Approach\n",
    "\n",
    "https://en.wikipedia.org/wiki/Verlet_integration\n",
    "\n",
    "The code provided implements the Verlet method, with the focus on exploring key points in the numerical solution of physics problems rather than on the specifics of the algorithm or code optimization. For simplicity, all physical constants are set to 1 (i.e., $\\hbar=m=1$), a common practice in simulations.\n",
    "\n",
    "##### Scaling and Unit Conversion\n",
    "\n",
    "While the solutions need to be rescaled to realistic physical units for practical applications, this aspect will not be covered in this lab.\n",
    "\n",
    "##### Implementation Details\n",
    "\n",
    "The code utilizes the shooting method:\n",
    "- An initial guess for the energy eigenvalue $E$ is inputted.\n",
    "- Initial values for $\\psi$ and $\\psi'$ are provided at a starting point.\n",
    "- The Schrödinger equation (SE) is integrated towards an endpoint.\n",
    "- If continuity conditions are met at the endpoint, then $E$ is confirmed as an eigenvalue and the corresponding eigenstate is identified.\n",
    "\n",
    "If not, the program reruns with a revised guess for $E$. This iterative process continues with systematically refined guesses until the eigenvalue is determined with the desired accuracy.\n",
    "\n",
    "##### Output\n",
    "\n",
    "The code produces unnormalized eigenstates. Normalization can be performed numerically, although it will not be addressed in this lab exercise.\n",
    "\n",
    "--- "
   ]
  },
  {
   "cell_type": "markdown",
   "metadata": {},
   "source": [
    "####  Problem 1 - Particle in a One-Dimensional Infinite Box Potential\n",
    "\n",
    "The provided Python code simulates a particle in a one-dimensional infinite box potential of width $L=1$. \n",
    "The solution to this problem was given in the lecture. \n",
    "\n",
    "The question arises: Why study a problem with a known solution? \n",
    "\n",
    "This approach serves as a very useful test to:\n",
    "- (1) Verify that the code is correct.\n",
    "- (2) Check what discretization is needed to achieve the desired accuracy.\n",
    "\n",
    "The exact energy eigenvalues are defined as $E_n=\\frac{\\hbar^2 \\pi^2 n^2}{2mL^2}$, which simplifies to $E_n=\\frac{\\pi^2 n^2}{2}$ in the units used. Initially, set $E=0.5 \\pi^2$, which corresponds to the exact ground state energy. The provided code uses $N=10$ mesh points, resulting in poor accuracy. The error is conveniently measured as $\\Delta=|\\psi(1)|$, which equals $0$ in the exact solution.\n",
    "\n",
    "**First Task:** Compute $\\Delta(N)$ for $N=10, 100, 1000, 10000$. Plot $\\Delta \\text{ vs } N$ on a $\\log-\\log$ plot to verify that the expected relationship $\\Delta=\\text{constant} / N^2$ holds. This can be achieved by setting the constant to a suitable value to make the data points and the exact line coincide. For the remainder of the lab, use $N=10000$ or more.\n",
    "\n",
    "---"
   ]
  },
  {
   "cell_type": "markdown",
   "metadata": {},
   "source": [
    "#### Problem 2 - Locating the Ground State Energy\n",
    "\n",
    "To locate the ground state energy without assuming its value, make an initial guess, say $E=0.4 \\pi^2$ and run the code. This does not find the correct endpoint since $\\psi \\neq 0$ there. \n",
    "\n",
    "Repeat with a new value $E=0.6 \\pi^2$, and so on with a sequence of systematically refined values until $\\psi$ satisfies the correct continuity condition at the end point and the eigenvalue is located with desired accuracy. This iteration can be done by hand or by writing a binary search loop (intervallhalvering) which is suggested.\n",
    "\n",
    "In this way determine the 4 lowest eigenvalues and provide a plot of their eigenstates $\\psi_n, n=1,2,3,4$.\n",
    "\n",
    "---"
   ]
  },
  {
   "cell_type": "markdown",
   "metadata": {},
   "source": [
    "#### Problem 3 - Changing the Model to the Harmonic Oscillator\n",
    "\n",
    "\n",
    "Change the model to the harmonic oscillator, defined by $V(x)=\\frac{x^2}{2}$ in units where all constants are set to $=1$. The known energy eigenvalues then become $E_n=n+\\frac{1}{2}$. \n",
    "\n",
    "The code requires a few modifications to solve this problem:\n",
    "- (1) The new potential has to be coded. It is already in the code; a comment sign has to be removed.\n",
    "- (2) The start condition is $\\psi(0)=1, \\psi^\\prime(0)=0$ for even eigenstates and $\\psi(0)=0, \\psi^\\prime(0)=1$ for odd eigenstates.\n",
    "- (3) The right endpoint for the integration might need to be adjusted upwards to meet the continuity requirement $\\psi(x)=\\psi^\\prime(x)=0$ at the upper integration point: change $dx=\\frac{1}{N}$ to $\\frac{5}{N}$.\n",
    "\n",
    "**Task:** Determine the 4 lowest energy eigenvalues and plot the eigenstates. Note that the odd solutions are hard to converge and might require an increased number of mesh points.\n",
    "\n",
    "---"
   ]
  },
  {
   "cell_type": "markdown",
   "metadata": {},
   "source": [
    "#### Problem 4 - Switching to an Anharmonic Potential\n",
    "\n",
    "Change to an anharmonic potential described by $V(x)=\\frac{x^2}{2}+\\frac{x^4}{2}$. This problem does not have an analytic solution in terms of well-known special functions and thus demonstrates the power of numerical methods.\n",
    "\n",
    "**Objective:** Find the lowest 4 energy eigenvalues and the corresponding eigenstates, and plot them. In the lecture, an approximation method to estimate the solution will be studied and compared with the results found here. \n",
    "Using a similar approach, virtually any bound state problem can be studied numerically.\n",
    "\n",
    "---"
   ]
  }
 ],
 "metadata": {
  "language_info": {
   "name": "python"
  }
 },
 "nbformat": 4,
 "nbformat_minor": 2
}
